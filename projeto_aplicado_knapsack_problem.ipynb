{
  "nbformat": 4,
  "nbformat_minor": 0,
  "metadata": {
    "colab": {
      "provenance": [],
      "collapsed_sections": [
        "FMBJRGWcvNWr",
        "Akl92Uwavh1O"
      ]
    },
    "kernelspec": {
      "name": "python3",
      "display_name": "Python 3"
    },
    "language_info": {
      "name": "python"
    }
  },
  "cells": [
    {
      "cell_type": "markdown",
      "source": [
        "# **Introducao a Analise Preditiva**\n",
        "\n",
        "**prof: Sergio Assuncao Monteiro, DSc**\n",
        "\n",
        "linkedin: https://www.linkedin.com/in/sergio-assun%C3%A7%C3%A3o-monteiro-b781897b/\n",
        "\n",
        "lattes: http://lattes.cnpq.br/9489191035734025\n"
      ],
      "metadata": {
        "id": "iZi-ryS8pMxp"
      }
    },
    {
      "cell_type": "markdown",
      "source": [
        "# **Instalação do pacote mip**"
      ],
      "metadata": {
        "id": "FMBJRGWcvNWr"
      }
    },
    {
      "cell_type": "markdown",
      "source": [
        "documentação do pacote MIP: https://python-mip.readthedocs.io/en/latest/classes.html"
      ],
      "metadata": {
        "id": "WabqlrS-URJx"
      }
    },
    {
      "cell_type": "code",
      "execution_count": 6,
      "metadata": {
        "colab": {
          "base_uri": "https://localhost:8080/"
        },
        "id": "1J5QWhp-pHcP",
        "outputId": "616bb945-5a16-4c87-802b-1e63c283aa69"
      },
      "outputs": [
        {
          "output_type": "stream",
          "name": "stdout",
          "text": [
            "Looking in indexes: https://pypi.org/simple, https://us-python.pkg.dev/colab-wheels/public/simple/\n",
            "Requirement already satisfied: mip in /usr/local/lib/python3.8/dist-packages (1.15.0)\n",
            "Requirement already satisfied: cffi==1.15.* in /usr/local/lib/python3.8/dist-packages (from mip) (1.15.1)\n",
            "Requirement already satisfied: pycparser in /usr/local/lib/python3.8/dist-packages (from cffi==1.15.*->mip) (2.21)\n"
          ]
        }
      ],
      "source": [
        "!pip install mip"
      ]
    },
    {
      "cell_type": "markdown",
      "source": [
        "**Problema da Mochila**"
      ],
      "metadata": {
        "id": "SOeeFXxEvSS5"
      }
    },
    {
      "cell_type": "markdown",
      "source": [
        "Formulação do Modelo do problema da mochila (knapsack problem)\n",
        "\n",
        "\\begin{eqnarray}\n",
        "\\max \\ 10\\ x_{1} &+ 13\\ x_{2}+18\\ x_{3}+31\\ x_{4}+7\\ x_{5}+15\\ x_{6}  \\\\\n",
        "\\mbox{sujeito a:}&  \\\\\n",
        "11\\ x_{1} + 15\\ x_{2} &+20\\ x_{3}+35\\ x_{4}+10\\ x_{5}+33\\ x_{6} \\leq 53  \n",
        "\\end{eqnarray}\n",
        "\n",
        "\n",
        "Além disso $x$ é um vetor inteiro com valores não-negativos."
      ],
      "metadata": {
        "id": "6Up7Tag4vWkn"
      }
    },
    {
      "cell_type": "code",
      "source": [
        "from mip import Model, maximize, xsum, CBC, BINARY, OptimizationStatus"
      ],
      "metadata": {
        "id": "DWAwA6djvVhU"
      },
      "execution_count": 7,
      "outputs": []
    },
    {
      "cell_type": "code",
      "source": [
        "coef_funcao_objetivo = [10, 13, 18, 31, 7, 15]\n",
        "coef_restr = [11, 15, 20, 35, 10, 33]\n",
        "termo_independente = 53 "
      ],
      "metadata": {
        "id": "BVVV1-HjSPCj"
      },
      "execution_count": 8,
      "outputs": []
    },
    {
      "cell_type": "code",
      "source": [
        "I = range(len(coef_funcao_objetivo))\n",
        "m = Model(\"knapsack\")"
      ],
      "metadata": {
        "id": "qG0ZLXNTRt9d"
      },
      "execution_count": 9,
      "outputs": []
    },
    {
      "cell_type": "code",
      "source": [
        "x = [m.add_var(var_type=BINARY) for i in I]"
      ],
      "metadata": {
        "id": "sBmvnRW2Qsdq"
      },
      "execution_count": 10,
      "outputs": []
    },
    {
      "cell_type": "code",
      "source": [
        "m.objective = maximize(xsum(coef_funcao_objetivo[i] * x[i] for i in I))"
      ],
      "metadata": {
        "id": "lf3SGds5RyAd"
      },
      "execution_count": 11,
      "outputs": []
    },
    {
      "cell_type": "code",
      "source": [
        "m += xsum(coef_restr[i] * x[i] for i in I) <= termo_independente\n",
        "print(f'O modelo tem {m.num_cols} variável(eis), {m.num_rows} restrição(ões) e {m.num_nz} zero(s)')"
      ],
      "metadata": {
        "colab": {
          "base_uri": "https://localhost:8080/"
        },
        "id": "M5MieaPqR3zs",
        "outputId": "5faf1d87-7826-4a12-a4ea-270ffba1d30b"
      },
      "execution_count": 12,
      "outputs": [
        {
          "output_type": "stream",
          "name": "stdout",
          "text": [
            "O modelo tem 6 variável(eis), 1 restrição(ões) e 6 zero(s)\n"
          ]
        }
      ]
    },
    {
      "cell_type": "code",
      "source": [
        "status = m.optimize(max_seconds=2)"
      ],
      "metadata": {
        "id": "KZWsiOPVQsGb"
      },
      "execution_count": 13,
      "outputs": []
    },
    {
      "cell_type": "code",
      "source": [
        "status == OptimizationStatus.OPTIMAL"
      ],
      "metadata": {
        "colab": {
          "base_uri": "https://localhost:8080/"
        },
        "id": "3UD0BjDnT2o7",
        "outputId": "fdc8e0ec-9a24-4c00-dc54-cd72e5463832"
      },
      "execution_count": 14,
      "outputs": [
        {
          "output_type": "execute_result",
          "data": {
            "text/plain": [
              "True"
            ]
          },
          "metadata": {},
          "execution_count": 14
        }
      ]
    },
    {
      "cell_type": "code",
      "source": [
        "itens_selecionados = [\"x\"+str(i+1) for i in I if x[i].x >= 0.99]\n",
        "print(\"Itens selecionados: {}\".format(itens_selecionados))"
      ],
      "metadata": {
        "colab": {
          "base_uri": "https://localhost:8080/"
        },
        "id": "07mA9CGeQ2_d",
        "outputId": "7b09393d-2dc5-468b-e712-fab0cc4c1771"
      },
      "execution_count": 15,
      "outputs": [
        {
          "output_type": "stream",
          "name": "stdout",
          "text": [
            "Itens selecionados: ['x2', 'x4']\n"
          ]
        }
      ]
    },
    {
      "cell_type": "markdown",
      "source": [
        "# **Instalação do pacote ortools**"
      ],
      "metadata": {
        "id": "Akl92Uwavh1O"
      }
    },
    {
      "cell_type": "code",
      "source": [
        "!pip install ortools"
      ],
      "metadata": {
        "colab": {
          "base_uri": "https://localhost:8080/"
        },
        "id": "FIK7HJdAvkHe",
        "outputId": "37ee4de4-5775-487f-e5ea-4e641854dfc4"
      },
      "execution_count": 16,
      "outputs": [
        {
          "output_type": "stream",
          "name": "stdout",
          "text": [
            "Looking in indexes: https://pypi.org/simple, https://us-python.pkg.dev/colab-wheels/public/simple/\n",
            "Collecting ortools\n",
            "  Downloading ortools-9.5.2237-cp38-cp38-manylinux_2_17_x86_64.manylinux2014_x86_64.whl (16.3 MB)\n",
            "\u001b[2K     \u001b[90m━━━━━━━━━━━━━━━━━━━━━━━━━━━━━━━━━━━━━━━━\u001b[0m \u001b[32m16.3/16.3 MB\u001b[0m \u001b[31m65.2 MB/s\u001b[0m eta \u001b[36m0:00:00\u001b[0m\n",
            "\u001b[?25hRequirement already satisfied: numpy>=1.13.3 in /usr/local/lib/python3.8/dist-packages (from ortools) (1.21.6)\n",
            "Collecting protobuf>=4.21.5\n",
            "  Downloading protobuf-4.21.12-cp37-abi3-manylinux2014_x86_64.whl (409 kB)\n",
            "\u001b[2K     \u001b[90m━━━━━━━━━━━━━━━━━━━━━━━━━━━━━━━━━━━━━━\u001b[0m \u001b[32m409.8/409.8 KB\u001b[0m \u001b[31m45.4 MB/s\u001b[0m eta \u001b[36m0:00:00\u001b[0m\n",
            "\u001b[?25hRequirement already satisfied: absl-py>=0.13 in /usr/local/lib/python3.8/dist-packages (from ortools) (1.4.0)\n",
            "Installing collected packages: protobuf, ortools\n",
            "  Attempting uninstall: protobuf\n",
            "    Found existing installation: protobuf 3.19.6\n",
            "    Uninstalling protobuf-3.19.6:\n",
            "      Successfully uninstalled protobuf-3.19.6\n",
            "\u001b[31mERROR: pip's dependency resolver does not currently take into account all the packages that are installed. This behaviour is the source of the following dependency conflicts.\n",
            "tensorflow 2.9.2 requires protobuf<3.20,>=3.9.2, but you have protobuf 4.21.12 which is incompatible.\n",
            "tensorflow-metadata 1.12.0 requires protobuf<4,>=3.13, but you have protobuf 4.21.12 which is incompatible.\n",
            "tensorboard 2.9.1 requires protobuf<3.20,>=3.9.2, but you have protobuf 4.21.12 which is incompatible.\u001b[0m\u001b[31m\n",
            "\u001b[0mSuccessfully installed ortools-9.5.2237 protobuf-4.21.12\n"
          ]
        }
      ]
    },
    {
      "cell_type": "markdown",
      "source": [
        "**Exemplo de Programação Inteira**"
      ],
      "metadata": {
        "id": "g0EmBsmIvmh9"
      }
    },
    {
      "cell_type": "code",
      "source": [
        "from ortools.linear_solver import pywraplp"
      ],
      "metadata": {
        "id": "k3X57eNAvqc_"
      },
      "execution_count": 17,
      "outputs": []
    },
    {
      "cell_type": "code",
      "source": [
        "solver = pywraplp.Solver.CreateSolver('SCIP')"
      ],
      "metadata": {
        "id": "9wGuK25kU1e5"
      },
      "execution_count": 18,
      "outputs": []
    },
    {
      "cell_type": "code",
      "source": [
        "infinity = solver.infinity()\n",
        "# x e y são variáveis inteiras não-negativas.\n",
        "x = solver.IntVar(0.0, infinity, 'x')\n",
        "y = solver.IntVar(0.0, infinity, 'y')\n",
        "\n",
        "print('Número de variáveis =', solver.NumVariables())"
      ],
      "metadata": {
        "colab": {
          "base_uri": "https://localhost:8080/"
        },
        "id": "TwYvQLaoUmSp",
        "outputId": "95579a0e-f1e9-4f88-c793-f4f307e5a513"
      },
      "execution_count": 19,
      "outputs": [
        {
          "output_type": "stream",
          "name": "stdout",
          "text": [
            "Número de variáveis = 2\n"
          ]
        }
      ]
    },
    {
      "cell_type": "code",
      "source": [
        "# x + 7 * y <= 17.5.\n",
        "solver.Add(x + 7 * y <= 17.5)\n",
        "\n",
        "# x <= 3.5.\n",
        "solver.Add(x <= 3.5)\n",
        "\n",
        "print('Número de restrições =', solver.NumConstraints())"
      ],
      "metadata": {
        "colab": {
          "base_uri": "https://localhost:8080/"
        },
        "id": "wFGgiZJSU-OY",
        "outputId": "da30221b-714a-4743-cddb-ee0875b39ef8"
      },
      "execution_count": 20,
      "outputs": [
        {
          "output_type": "stream",
          "name": "stdout",
          "text": [
            "Número de restrições = 2\n"
          ]
        }
      ]
    },
    {
      "cell_type": "code",
      "source": [
        "# Maximize x + 10 * y.\n",
        "solver.Maximize(x + 10 * y)"
      ],
      "metadata": {
        "id": "4TUBdVz8VBBA"
      },
      "execution_count": 21,
      "outputs": []
    },
    {
      "cell_type": "code",
      "source": [
        "status = solver.Solve()"
      ],
      "metadata": {
        "id": "ysL6LkMYVCj4"
      },
      "execution_count": 22,
      "outputs": []
    },
    {
      "cell_type": "code",
      "source": [
        "if status == pywraplp.Solver.OPTIMAL:\n",
        "  print('Solução:')\n",
        "  print('Valor objetivo =', solver.Objective().Value())\n",
        "  print('x =', x.solution_value())\n",
        "  print('y =', y.solution_value())\n",
        "else:\n",
        "  print('O problema não tem solução ótima.')\n",
        "\n"
      ],
      "metadata": {
        "colab": {
          "base_uri": "https://localhost:8080/"
        },
        "id": "t2dp9nO2Upnq",
        "outputId": "712d408b-a2fb-4cb9-a9c7-4402bf82e338"
      },
      "execution_count": 23,
      "outputs": [
        {
          "output_type": "stream",
          "name": "stdout",
          "text": [
            "Solução:\n",
            "Valor objetivo = 23.0\n",
            "x = 3.0\n",
            "y = 2.0\n"
          ]
        }
      ]
    },
    {
      "cell_type": "code",
      "source": [
        "print('\\nInformações sobre o processamento:')\n",
        "print(f'Tempo de processamento em milisegundos foi de {solver.wall_time()}')\n",
        "print(f'Quantidade de Iterações para resolver o problema foi de {solver.iterations()}')\n",
        "print(f'Quantidade nós de branch-and-bound para resolver o problema foi de {solver.nodes()}')"
      ],
      "metadata": {
        "colab": {
          "base_uri": "https://localhost:8080/"
        },
        "id": "GXgEX5liUsDx",
        "outputId": "77459029-f7b0-4622-b81e-ec218360bb27"
      },
      "execution_count": 24,
      "outputs": [
        {
          "output_type": "stream",
          "name": "stdout",
          "text": [
            "\n",
            "Informações sobre o processamento:\n",
            "Tempo de processamento em milisegundos foi de 59\n",
            "Quantidade de Iterações para resolver o problema foi de 0\n",
            "Quantidade nós de branch-and-bound para resolver o problema foi de 1\n"
          ]
        }
      ]
    }
  ]
}