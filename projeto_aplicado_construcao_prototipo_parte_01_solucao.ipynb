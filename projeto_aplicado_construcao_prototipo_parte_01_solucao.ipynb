{
  "nbformat": 4,
  "nbformat_minor": 0,
  "metadata": {
    "colab": {
      "provenance": [],
      "include_colab_link": true
    },
    "kernelspec": {
      "name": "python3",
      "display_name": "Python 3"
    },
    "language_info": {
      "name": "python"
    }
  },
  "cells": [
    {
      "cell_type": "markdown",
      "metadata": {
        "id": "view-in-github",
        "colab_type": "text"
      },
      "source": [
        "<a href=\"https://colab.research.google.com/github/CamilloDias/projeto_aplicado/blob/main/projeto_aplicado_construcao_prototipo_parte_01_solucao.ipynb\" target=\"_parent\"><img src=\"https://colab.research.google.com/assets/colab-badge.svg\" alt=\"Open In Colab\"/></a>"
      ]
    },
    {
      "cell_type": "markdown",
      "source": [
        "# **Projeto Aplicado**\n",
        "\n",
        "**prof: Sergio Assuncao Monteiro, DSc**\n",
        "\n",
        "linkedin: https://www.linkedin.com/in/sergio-assun%C3%A7%C3%A3o-monteiro-b781897b/\n",
        "\n",
        "lattes: http://lattes.cnpq.br/9489191035734025\n"
      ],
      "metadata": {
        "id": "iZi-ryS8pMxp"
      }
    },
    {
      "cell_type": "markdown",
      "source": [
        "**Seleção de Itens para Construção de Portfólio**"
      ],
      "metadata": {
        "id": "qbGsLtDCMvom"
      }
    },
    {
      "cell_type": "markdown",
      "source": [
        "# **Instalação do pacote mip**"
      ],
      "metadata": {
        "id": "FMBJRGWcvNWr"
      }
    },
    {
      "cell_type": "markdown",
      "source": [
        "documentação do pacote MIP: https://python-mip.readthedocs.io/en/latest/classes.html"
      ],
      "metadata": {
        "id": "WabqlrS-URJx"
      }
    },
    {
      "cell_type": "code",
      "execution_count": 1,
      "metadata": {
        "colab": {
          "base_uri": "https://localhost:8080/"
        },
        "id": "1J5QWhp-pHcP",
        "outputId": "6348a18b-5c93-405a-b35b-ae8ec8fba4cc"
      },
      "outputs": [
        {
          "output_type": "stream",
          "name": "stdout",
          "text": [
            "Looking in indexes: https://pypi.org/simple, https://us-python.pkg.dev/colab-wheels/public/simple/\n",
            "Collecting mip\n",
            "  Downloading mip-1.15.0-py3-none-any.whl (15.3 MB)\n",
            "\u001b[2K     \u001b[90m━━━━━━━━━━━━━━━━━━━━━━━━━━━━━━━━━━━━━━━━\u001b[0m \u001b[32m15.3/15.3 MB\u001b[0m \u001b[31m28.0 MB/s\u001b[0m eta \u001b[36m0:00:00\u001b[0m\n",
            "\u001b[?25hRequirement already satisfied: cffi==1.15.* in /usr/local/lib/python3.9/dist-packages (from mip) (1.15.1)\n",
            "Requirement already satisfied: pycparser in /usr/local/lib/python3.9/dist-packages (from cffi==1.15.*->mip) (2.21)\n",
            "Installing collected packages: mip\n",
            "Successfully installed mip-1.15.0\n"
          ]
        }
      ],
      "source": [
        "!pip install mip"
      ]
    },
    {
      "cell_type": "markdown",
      "source": [
        "**Problema da Mochila**"
      ],
      "metadata": {
        "id": "SOeeFXxEvSS5"
      }
    },
    {
      "cell_type": "markdown",
      "source": [
        "Formulação do Modelo do problema da mochila (knapsack problem)\n",
        "\n",
        "\\begin{eqnarray}\n",
        "\\max \\ 4\\ x_{1} &+ 6\\ x_{2}+5\\ x_{3}+3\\ x_{4}+\\ x_{5}  \\\\\n",
        "\\mbox{sujeito a:}&  \\\\\n",
        "5\\ x_{1} + 4\\ x_{2} &+3\\ x_{3}+2\\ x_{4}+\\ x_{5} \\leq 10  \\\\\n",
        "& x_{i}\\in\\{0,1\\},\\forall i \\in {1,2,3,4,5} \\\\ \n",
        "\\end{eqnarray}"
      ],
      "metadata": {
        "id": "6Up7Tag4vWkn"
      }
    },
    {
      "cell_type": "code",
      "source": [
        "from mip import Model, maximize, xsum, CBC, BINARY, OptimizationStatus"
      ],
      "metadata": {
        "id": "DWAwA6djvVhU"
      },
      "execution_count": 2,
      "outputs": []
    },
    {
      "cell_type": "code",
      "source": [
        "coef_funcao_objetivo = [4, 6, 5, 3, 1]\n",
        "coef_restr = [5, 4, 3, 2, 1]\n",
        "termo_independente = 10 "
      ],
      "metadata": {
        "id": "BVVV1-HjSPCj"
      },
      "execution_count": 3,
      "outputs": []
    },
    {
      "cell_type": "code",
      "source": [
        "I = range(len(coef_funcao_objetivo))\n",
        "m = Model(\"knapsack\")"
      ],
      "metadata": {
        "id": "qG0ZLXNTRt9d"
      },
      "execution_count": 4,
      "outputs": []
    },
    {
      "cell_type": "code",
      "source": [
        "x = [m.add_var(var_type=BINARY) for i in I]"
      ],
      "metadata": {
        "id": "sBmvnRW2Qsdq"
      },
      "execution_count": 5,
      "outputs": []
    },
    {
      "cell_type": "code",
      "source": [
        "m.objective = maximize(xsum(coef_funcao_objetivo[i] * x[i] for i in I))"
      ],
      "metadata": {
        "id": "lf3SGds5RyAd"
      },
      "execution_count": 6,
      "outputs": []
    },
    {
      "cell_type": "code",
      "source": [
        "m += xsum(coef_restr[i] * x[i] for i in I) <= termo_independente\n",
        "print(f'O modelo tem {m.num_cols} variável(eis), {m.num_rows} restrição(ões) e {m.num_nz} zero(s)')"
      ],
      "metadata": {
        "colab": {
          "base_uri": "https://localhost:8080/"
        },
        "id": "M5MieaPqR3zs",
        "outputId": "d6e73306-a64c-4649-df4e-1d281850d57b"
      },
      "execution_count": 7,
      "outputs": [
        {
          "output_type": "stream",
          "name": "stdout",
          "text": [
            "O modelo tem 5 variável(eis), 1 restrição(ões) e 5 zero(s)\n"
          ]
        }
      ]
    },
    {
      "cell_type": "code",
      "source": [
        "status = m.optimize()"
      ],
      "metadata": {
        "id": "KZWsiOPVQsGb"
      },
      "execution_count": 8,
      "outputs": []
    },
    {
      "cell_type": "code",
      "source": [
        "status == OptimizationStatus.OPTIMAL"
      ],
      "metadata": {
        "colab": {
          "base_uri": "https://localhost:8080/"
        },
        "id": "3UD0BjDnT2o7",
        "outputId": "dcece12a-e4b5-4ca2-94f8-f158ece7c427"
      },
      "execution_count": 9,
      "outputs": [
        {
          "output_type": "execute_result",
          "data": {
            "text/plain": [
              "True"
            ]
          },
          "metadata": {},
          "execution_count": 9
        }
      ]
    },
    {
      "cell_type": "code",
      "source": [
        "itens_selecionados = [\"x\"+str(i+1) for i in I if x[i].x >= 0.99]\n",
        "print(\"Itens selecionados: {}\".format(itens_selecionados))"
      ],
      "metadata": {
        "colab": {
          "base_uri": "https://localhost:8080/"
        },
        "id": "07mA9CGeQ2_d",
        "outputId": "f4d9ba25-19f3-41ec-dbcd-cf3c665a156a"
      },
      "execution_count": 10,
      "outputs": [
        {
          "output_type": "stream",
          "name": "stdout",
          "text": [
            "Itens selecionados: ['x2', 'x3', 'x4', 'x5']\n"
          ]
        }
      ]
    },
    {
      "cell_type": "markdown",
      "source": [
        "# **Acrescentar Restrição para selecionar, no máximo, 3 itens**"
      ],
      "metadata": {
        "id": "2Jz2XXqPT0GV"
      }
    },
    {
      "cell_type": "markdown",
      "source": [
        "Formulação do Modelo do problema da mochila (knapsack problem)\n",
        "\n",
        "\\begin{eqnarray}\n",
        "\\max \\ 4\\ x_{1} &+ 6\\ x_{2}+5\\ x_{3}+3\\ x_{4}+\\ x_{5}  \\\\\n",
        "\\mbox{sujeito a:}&  \\\\\n",
        "5\\ x_{1} + 4\\ x_{2} &+3\\ x_{3}+2\\ x_{4}+\\ x_{5} \\leq 10  \\\\\n",
        "\\ x_{1} + \\ x_{2} &+\\ x_{3}+\\ x_{4}+\\ x_{5} \\leq 3  \\\\\n",
        "& x_{i}\\in\\{0,1\\},\\forall i \\in {1,2,3,4,5} \\\\ \n",
        "\\end{eqnarray}\n"
      ],
      "metadata": {
        "id": "IcO7GvN8UCZt"
      }
    },
    {
      "cell_type": "code",
      "source": [
        "from mip import Model, maximize, xsum, CBC, BINARY, OptimizationStatus"
      ],
      "metadata": {
        "id": "0d_bfM9_UYCE"
      },
      "execution_count": 11,
      "outputs": []
    },
    {
      "cell_type": "code",
      "source": [
        "coef_funcao_objetivo = [4, 6, 5, 3, 1]\n",
        "coef_restr_menor_igual = [[5, 4, 3, 2, 1],\n",
        "                          [1,1,1,1,1]]\n",
        "termos_independentes = [10, 3] "
      ],
      "metadata": {
        "id": "G3i44qEHUk4V"
      },
      "execution_count": 12,
      "outputs": []
    },
    {
      "cell_type": "code",
      "source": [
        "I = range(len(coef_funcao_objetivo))\n",
        "m = Model(\"meu_portfolio\")"
      ],
      "metadata": {
        "id": "5pbFEWtXUnm8"
      },
      "execution_count": 13,
      "outputs": []
    },
    {
      "cell_type": "code",
      "source": [
        "x = [m.add_var(var_type=BINARY) for i in I]"
      ],
      "metadata": {
        "id": "rT1DGS3_Upsl"
      },
      "execution_count": 14,
      "outputs": []
    },
    {
      "cell_type": "code",
      "source": [
        "m.objective = maximize(xsum(coef_funcao_objetivo[i] * x[i] for i in I))"
      ],
      "metadata": {
        "id": "OiC_tcChUryM"
      },
      "execution_count": 15,
      "outputs": []
    },
    {
      "cell_type": "code",
      "source": [
        "n=len(termos_independentes)\n",
        "for k in range(n):\n",
        "  restricao = xsum(coef_restr_menor_igual[k][i] * x[i] for i in I) <= termos_independentes[k]\n",
        "  print(restricao)\n",
        "  m += restricao"
      ],
      "metadata": {
        "colab": {
          "base_uri": "https://localhost:8080/"
        },
        "id": "6-dEonJgUvBd",
        "outputId": "2af88386-4bc1-4ead-c9e7-807452abfd4c"
      },
      "execution_count": 16,
      "outputs": [
        {
          "output_type": "stream",
          "name": "stdout",
          "text": [
            "+ 5var(0) + 4var(1) + 3var(2) + 2var(3) + var(4)  <= 10.0\n",
            "+ var(0) + var(1) + var(2) + var(3) + var(4)  <= 3.0\n"
          ]
        }
      ]
    },
    {
      "cell_type": "code",
      "source": [
        "print(f'O modelo tem {m.num_cols} variável(eis), {m.num_rows} restrição(ões)')"
      ],
      "metadata": {
        "colab": {
          "base_uri": "https://localhost:8080/"
        },
        "id": "bRHeRcgcVYRU",
        "outputId": "d016db4e-4c1b-4efe-a840-139e172f5300"
      },
      "execution_count": 17,
      "outputs": [
        {
          "output_type": "stream",
          "name": "stdout",
          "text": [
            "O modelo tem 5 variável(eis), 2 restrição(ões)\n"
          ]
        }
      ]
    },
    {
      "cell_type": "code",
      "source": [
        "status = m.optimize()"
      ],
      "metadata": {
        "id": "1XJ7n4tUUyAN"
      },
      "execution_count": 18,
      "outputs": []
    },
    {
      "cell_type": "code",
      "source": [
        "status == OptimizationStatus.OPTIMAL"
      ],
      "metadata": {
        "colab": {
          "base_uri": "https://localhost:8080/"
        },
        "id": "j4_Of2bWU0T9",
        "outputId": "12636285-4ffd-4abd-dacf-60a43620c665"
      },
      "execution_count": 19,
      "outputs": [
        {
          "output_type": "execute_result",
          "data": {
            "text/plain": [
              "True"
            ]
          },
          "metadata": {},
          "execution_count": 19
        }
      ]
    },
    {
      "cell_type": "code",
      "source": [
        "itens_selecionados = [\"x\"+str(i+1) for i in I if x[i].x >= 0.99]\n",
        "print(\"Itens selecionados: {}\".format(itens_selecionados))"
      ],
      "metadata": {
        "colab": {
          "base_uri": "https://localhost:8080/"
        },
        "id": "c88zjLKHU2o8",
        "outputId": "02e21527-fbf5-43ca-f7c3-fd4f103ce626"
      },
      "execution_count": 20,
      "outputs": [
        {
          "output_type": "stream",
          "name": "stdout",
          "text": [
            "Itens selecionados: ['x2', 'x3', 'x4']\n"
          ]
        }
      ]
    },
    {
      "cell_type": "code",
      "source": [
        "print(f'Valor da solução ótima = {m.objective_value}')"
      ],
      "metadata": {
        "colab": {
          "base_uri": "https://localhost:8080/"
        },
        "id": "B0T2x9XKYWJ5",
        "outputId": "9c04c2d8-1f47-4e38-fb01-1e116088ad6e"
      },
      "execution_count": 21,
      "outputs": [
        {
          "output_type": "stream",
          "name": "stdout",
          "text": [
            "Valor da solução ótima = 14.0\n"
          ]
        }
      ]
    },
    {
      "cell_type": "markdown",
      "source": [
        "# **Acrescentar Restrição para selecionar determinados itens**"
      ],
      "metadata": {
        "id": "NsVSunHgZ4oX"
      }
    },
    {
      "cell_type": "markdown",
      "source": [
        "Formulação do Modelo do problema da mochila (knapsack problem)\n",
        "\n",
        "\\begin{eqnarray}\n",
        "\\max \\ 4\\ x_{1} &+ 6\\ x_{2}+5\\ x_{3}+3\\ x_{4}+\\ x_{5}  \\\\\n",
        "\\mbox{sujeito a:}&  \\\\\n",
        "5\\ x_{1} + 4\\ x_{2} &+3\\ x_{3}+2\\ x_{4}+\\ x_{5} \\leq 10  \\\\\n",
        "\\ x_{1} + \\ x_{2} &+\\ x_{3}+\\ x_{4}+\\ x_{5} \\leq 3  \\\\\n",
        "\\ x_{1} + \\ x_{5} = 1  \\\\\n",
        "& x_{i}\\in\\{0,1\\},\\forall i \\in {1,2,3,4,5} \\\\ \n",
        "\\end{eqnarray}\n"
      ],
      "metadata": {
        "id": "AgBVRE72aDS_"
      }
    },
    {
      "cell_type": "code",
      "source": [
        "from mip import Model, maximize, xsum, CBC, BINARY, OptimizationStatus"
      ],
      "metadata": {
        "id": "e3aN11BvaCT3"
      },
      "execution_count": 22,
      "outputs": []
    },
    {
      "cell_type": "code",
      "source": [
        "coef_funcao_objetivo = [4, 6, 5, 3, 1]"
      ],
      "metadata": {
        "id": "K71QWXdcbFl2"
      },
      "execution_count": 23,
      "outputs": []
    },
    {
      "cell_type": "code",
      "source": [
        "coef_restr_menor_igual = [[5, 4, 3, 2, 1],\n",
        "                          [1,1,1,1,1]]\n",
        "termos_independentes_menor_igual = [10, 3] "
      ],
      "metadata": {
        "id": "KKKFf98faXe3"
      },
      "execution_count": 24,
      "outputs": []
    },
    {
      "cell_type": "code",
      "source": [
        "coef_restr_igualdade = [[1, 0, 0, 0, 1]]\n",
        "termos_independentes_igualdade = [1] "
      ],
      "metadata": {
        "id": "e2ntr_JSbIm1"
      },
      "execution_count": 25,
      "outputs": []
    },
    {
      "cell_type": "code",
      "source": [
        "I = range(len(coef_funcao_objetivo))\n",
        "m = Model(\"meu_portfolio_3\")"
      ],
      "metadata": {
        "id": "O23FAv6jadjg"
      },
      "execution_count": 26,
      "outputs": []
    },
    {
      "cell_type": "code",
      "source": [
        "x = [m.add_var(var_type=BINARY) for i in I]"
      ],
      "metadata": {
        "id": "QoyljBibahle"
      },
      "execution_count": 27,
      "outputs": []
    },
    {
      "cell_type": "code",
      "source": [
        "m.objective = maximize(xsum(coef_funcao_objetivo[i] * x[i] for i in I))"
      ],
      "metadata": {
        "id": "BOXkb6R8akk_"
      },
      "execution_count": 28,
      "outputs": []
    },
    {
      "cell_type": "code",
      "source": [
        "n=len(termos_independentes_menor_igual)\n",
        "for k in range(n):\n",
        "  restricao = xsum(coef_restr_menor_igual[k][i] * x[i] for i in I) <= termos_independentes_menor_igual[k]\n",
        "  print(restricao)\n",
        "  m += restricao"
      ],
      "metadata": {
        "colab": {
          "base_uri": "https://localhost:8080/"
        },
        "id": "FlyxuaDMarBW",
        "outputId": "56301d14-5d07-490d-dc23-4163c390eb0c"
      },
      "execution_count": 29,
      "outputs": [
        {
          "output_type": "stream",
          "name": "stdout",
          "text": [
            "+ 5var(0) + 4var(1) + 3var(2) + 2var(3) + var(4)  <= 10.0\n",
            "+ var(0) + var(1) + var(2) + var(3) + var(4)  <= 3.0\n"
          ]
        }
      ]
    },
    {
      "cell_type": "code",
      "source": [
        "n=len(termos_independentes_igualdade)\n",
        "for k in range(n):\n",
        "  restricao = xsum(coef_restr_igualdade[k][i] * x[i] for i in I) == termos_independentes_igualdade[k]\n",
        "  print(restricao)\n",
        "  m += restricao"
      ],
      "metadata": {
        "colab": {
          "base_uri": "https://localhost:8080/"
        },
        "id": "UcpEFguWbdS2",
        "outputId": "fe2e0bc1-5321-44a5-9b2d-fbe862b93659"
      },
      "execution_count": 30,
      "outputs": [
        {
          "output_type": "stream",
          "name": "stdout",
          "text": [
            "+ var(0) + 0var(1) + 0var(2) + 0var(3) + var(4)  = 1.0\n"
          ]
        }
      ]
    },
    {
      "cell_type": "code",
      "source": [
        "print(f'O modelo tem {m.num_cols} variável(eis), {m.num_rows} restrição(ões)')"
      ],
      "metadata": {
        "colab": {
          "base_uri": "https://localhost:8080/"
        },
        "id": "JmlvRlsbazyX",
        "outputId": "03ffb5a0-fcf4-4626-9a20-712375600e69"
      },
      "execution_count": 31,
      "outputs": [
        {
          "output_type": "stream",
          "name": "stdout",
          "text": [
            "O modelo tem 5 variável(eis), 3 restrição(ões)\n"
          ]
        }
      ]
    },
    {
      "cell_type": "code",
      "source": [
        "status = m.optimize()"
      ],
      "metadata": {
        "id": "z4MrzO7fa3Q-"
      },
      "execution_count": 32,
      "outputs": []
    },
    {
      "cell_type": "code",
      "source": [
        "status == OptimizationStatus.OPTIMAL"
      ],
      "metadata": {
        "colab": {
          "base_uri": "https://localhost:8080/"
        },
        "id": "QmfK1MO0a8pe",
        "outputId": "693275cc-d56a-48b6-da28-63748aa9fa48"
      },
      "execution_count": 33,
      "outputs": [
        {
          "output_type": "execute_result",
          "data": {
            "text/plain": [
              "True"
            ]
          },
          "metadata": {},
          "execution_count": 33
        }
      ]
    },
    {
      "cell_type": "code",
      "source": [
        "itens_selecionados = [\"x\"+str(i+1) for i in I if x[i].x >= 0.99]\n",
        "print(\"Itens selecionados: {}\".format(itens_selecionados))"
      ],
      "metadata": {
        "colab": {
          "base_uri": "https://localhost:8080/"
        },
        "id": "8XOduwz9a_U2",
        "outputId": "af0877b2-90e4-49d7-9aac-3e843e178356"
      },
      "execution_count": 34,
      "outputs": [
        {
          "output_type": "stream",
          "name": "stdout",
          "text": [
            "Itens selecionados: ['x2', 'x3', 'x5']\n"
          ]
        }
      ]
    },
    {
      "cell_type": "code",
      "source": [
        "print(f'Valor da solução ótima = {m.objective_value}')"
      ],
      "metadata": {
        "colab": {
          "base_uri": "https://localhost:8080/"
        },
        "id": "OOHwCFSgbBn-",
        "outputId": "0a0d3676-1c38-495f-f81f-31923edf4b4d"
      },
      "execution_count": 35,
      "outputs": [
        {
          "output_type": "stream",
          "name": "stdout",
          "text": [
            "Valor da solução ótima = 12.0\n"
          ]
        }
      ]
    },
    {
      "cell_type": "markdown",
      "source": [
        "# **Exercício: resolver o problema abaixo:**"
      ],
      "metadata": {
        "id": "UM0Dz_MJZNV9"
      }
    },
    {
      "cell_type": "markdown",
      "source": [
        "Formulação do Modelo do problema da mochila (knapsack problem)\n",
        "\n",
        "\\begin{eqnarray}\n",
        "\\max \\ 4\\ x_{1} &+ 6\\ x_{2}+5\\ x_{3}+3\\ x_{4}+\\ x_{5}  \\\\\n",
        "\\mbox{sujeito a:}&  \\\\\n",
        "5\\ x_{1} + 4\\ x_{2} &+3\\ x_{3}+2\\ x_{4}+\\ x_{5} \\leq 10  \\\\\n",
        "\\ x_{1} + \\ x_{2} &+\\ x_{3}+\\ x_{4}+\\ x_{5} \\leq 3  \\\\\n",
        "3\\ x_{1} + &5\\ x_{3}+\\ x_{4}+\\ x_{5} \\geq 2  \\\\\n",
        "\\ x_{1} + \\ x_{5} = 1  \\\\\n",
        "\\ x_{2} + \\ x_{4} + \\ x_{5} = 1  \\\\\n",
        "& x_{i}\\in\\{0,1\\},\\forall i \\in {1,2,3,4,5} \\\\ \n",
        "\\end{eqnarray}\n"
      ],
      "metadata": {
        "id": "GdeLqAFiZU2d"
      }
    },
    {
      "cell_type": "markdown",
      "source": [
        "Fazer algumas adaptações na formulação do Modelo do problema da mochila (knapsack problem):\n",
        "\n",
        "\\begin{eqnarray}\n",
        "\\max \\ 4\\ x_{1} &+ 6\\ x_{2}+5\\ x_{3}+3\\ x_{4}+\\ x_{5}  \\\\\n",
        "\\mbox{sujeito a:}&  \\\\\n",
        "5\\ x_{1} + 4\\ x_{2} &+3\\ x_{3}+2\\ x_{4}+\\ x_{5} \\leq 10  \\\\\n",
        "\\ x_{1} + \\ x_{2} &+\\ x_{3}+\\ x_{4}+\\ x_{5} \\leq 3  \\\\\n",
        "-3\\ x_{1} + &0\\ x_{2}- 5\\ x_{3}-\\ x_{4}-\\ x_{5} \\leq -2  \\\\\n",
        "\\ x_{1} + &0\\ x_{2} +0\\ x_{3} +0\\ x_{4} + \\ x_{5} = 1  \\\\\n",
        "0\\ x_{1} + &\\ x_{2} + 0\\ x_{3} +\\ x_{4} + \\ x_{5} = 1  \\\\\n",
        "& x_{i}\\in\\{0,1\\},\\forall i \\in {1,2,3,4,5} \\\\ \n",
        "\\end{eqnarray}\n"
      ],
      "metadata": {
        "id": "JhEN990igYNN"
      }
    },
    {
      "cell_type": "code",
      "source": [
        "from mip import Model, maximize, xsum, CBC, BINARY, OptimizationStatus"
      ],
      "metadata": {
        "id": "fJE8qD3jfQLF"
      },
      "execution_count": 36,
      "outputs": []
    },
    {
      "cell_type": "code",
      "source": [
        "coef_funcao_objetivo = [4, 6, 5, 3, 1]"
      ],
      "metadata": {
        "id": "mLdqw3z0fRKO"
      },
      "execution_count": 37,
      "outputs": []
    },
    {
      "cell_type": "code",
      "source": [
        "coef_restr_menor_igual = [[5, 4, 3, 2, 1],\n",
        "                          [1,1,1,1,1],\n",
        "                          [-3, 0, -5,-1,-1]]\n",
        "termos_independentes_menor_igual = [10, 3, -2] "
      ],
      "metadata": {
        "id": "sGywCsDxfmuO"
      },
      "execution_count": 38,
      "outputs": []
    },
    {
      "cell_type": "code",
      "source": [
        "coef_restr_igualdade = [[1, 0, 0, 0, 1],\n",
        "                        [0,1,0,1,1]]\n",
        "termos_independentes_igualdade = [1,\n",
        "                                  1] "
      ],
      "metadata": {
        "id": "bIem8a3IfnVN"
      },
      "execution_count": 39,
      "outputs": []
    },
    {
      "cell_type": "code",
      "source": [
        "I = range(len(coef_funcao_objetivo))\n",
        "m = Model(\"meu_portfolio_3\")"
      ],
      "metadata": {
        "id": "Xxfd_r92ftRt"
      },
      "execution_count": 40,
      "outputs": []
    },
    {
      "cell_type": "code",
      "source": [
        "x = [m.add_var(var_type=BINARY) for i in I]"
      ],
      "metadata": {
        "id": "W_G3GJdtfwNl"
      },
      "execution_count": 41,
      "outputs": []
    },
    {
      "cell_type": "code",
      "source": [
        "m.objective = maximize(xsum(coef_funcao_objetivo[i] * x[i] for i in I))"
      ],
      "metadata": {
        "id": "eeHLvPIZfzRG"
      },
      "execution_count": 42,
      "outputs": []
    },
    {
      "cell_type": "code",
      "source": [
        "coef_restr_menor_igual"
      ],
      "metadata": {
        "colab": {
          "base_uri": "https://localhost:8080/"
        },
        "id": "IhaemdQpiNfq",
        "outputId": "37b1cbc8-7784-415b-f281-7167c370c414"
      },
      "execution_count": 43,
      "outputs": [
        {
          "output_type": "execute_result",
          "data": {
            "text/plain": [
              "[[5, 4, 3, 2, 1], [1, 1, 1, 1, 1], [-3, 0, -5, -1, -1]]"
            ]
          },
          "metadata": {},
          "execution_count": 43
        }
      ]
    },
    {
      "cell_type": "code",
      "source": [
        "n=len(termos_independentes_menor_igual)\n",
        "for k in range(n):\n",
        "  restricao = xsum(coef_restr_menor_igual[k][i] * x[i] for i in I) <= termos_independentes_menor_igual[k]\n",
        "  print(restricao)\n",
        "  m += restricao"
      ],
      "metadata": {
        "colab": {
          "base_uri": "https://localhost:8080/"
        },
        "id": "Hw8IQ0lDfz1M",
        "outputId": "fe32650c-a1cb-420b-907a-d56d2dfd380c"
      },
      "execution_count": 44,
      "outputs": [
        {
          "output_type": "stream",
          "name": "stdout",
          "text": [
            "+ 5var(0) + 4var(1) + 3var(2) + 2var(3) + var(4)  <= 10.0\n",
            "+ var(0) + var(1) + var(2) + var(3) + var(4)  <= 3.0\n",
            "- 3var(0) + 0var(1) - 5var(2) - var(3) - var(4)  <= - 2.0\n"
          ]
        }
      ]
    },
    {
      "cell_type": "code",
      "source": [
        "n=len(termos_independentes_igualdade)\n",
        "for k in range(n):\n",
        "  restricao = xsum(coef_restr_igualdade[k][i] * x[i] for i in I) == termos_independentes_igualdade[k]\n",
        "  print(restricao)\n",
        "  m += restricao"
      ],
      "metadata": {
        "colab": {
          "base_uri": "https://localhost:8080/"
        },
        "id": "SIZuk_9Jf3YN",
        "outputId": "fac11fed-7acf-4d2d-8b5e-6e0dad0ead27"
      },
      "execution_count": 45,
      "outputs": [
        {
          "output_type": "stream",
          "name": "stdout",
          "text": [
            "+ var(0) + 0var(1) + 0var(2) + 0var(3) + var(4)  = 1.0\n",
            "+ 0var(0) + var(1) + 0var(2) + var(3) + var(4)  = 1.0\n"
          ]
        }
      ]
    },
    {
      "cell_type": "code",
      "source": [
        "print(f'O modelo tem {m.num_cols} variável(eis), {m.num_rows} restrição(ões)')"
      ],
      "metadata": {
        "colab": {
          "base_uri": "https://localhost:8080/"
        },
        "id": "7SPtsYLNf9IN",
        "outputId": "baa51938-0698-4428-93d9-a3b18928657c"
      },
      "execution_count": 46,
      "outputs": [
        {
          "output_type": "stream",
          "name": "stdout",
          "text": [
            "O modelo tem 5 variável(eis), 5 restrição(ões)\n"
          ]
        }
      ]
    },
    {
      "cell_type": "code",
      "source": [
        "status = m.optimize()"
      ],
      "metadata": {
        "id": "a7liNv6DjkHQ"
      },
      "execution_count": 47,
      "outputs": []
    },
    {
      "cell_type": "code",
      "source": [
        "status == OptimizationStatus.OPTIMAL"
      ],
      "metadata": {
        "colab": {
          "base_uri": "https://localhost:8080/"
        },
        "id": "keqO2OsWf_yc",
        "outputId": "f1982c02-e9a8-462c-b409-6ccdb69d9435"
      },
      "execution_count": 48,
      "outputs": [
        {
          "output_type": "execute_result",
          "data": {
            "text/plain": [
              "True"
            ]
          },
          "metadata": {},
          "execution_count": 48
        }
      ]
    },
    {
      "cell_type": "code",
      "source": [
        "m.optimize()"
      ],
      "metadata": {
        "id": "3fn08D-5k6eX",
        "outputId": "b2f6b38a-04ed-4b3f-d63f-bcc1671e07c9",
        "colab": {
          "base_uri": "https://localhost:8080/"
        }
      },
      "execution_count": 49,
      "outputs": [
        {
          "output_type": "execute_result",
          "data": {
            "text/plain": [
              "<OptimizationStatus.OPTIMAL: 0>"
            ]
          },
          "metadata": {},
          "execution_count": 49
        }
      ]
    },
    {
      "cell_type": "code",
      "source": [
        "itens_selecionados = [\"x\"+str(i+1) for i in I if x[i].x >= 0.99]\n",
        "print(\"Itens selecionados: {}\".format(itens_selecionados))"
      ],
      "metadata": {
        "colab": {
          "base_uri": "https://localhost:8080/"
        },
        "id": "74XH0njxgCrl",
        "outputId": "76c399b5-0828-43dc-b7c9-caebc4fb770c"
      },
      "execution_count": 50,
      "outputs": [
        {
          "output_type": "stream",
          "name": "stdout",
          "text": [
            "Itens selecionados: ['x1', 'x3', 'x4']\n"
          ]
        }
      ]
    },
    {
      "cell_type": "code",
      "source": [
        "print(f'Valor da solução ótima = {m.objective_value}')"
      ],
      "metadata": {
        "colab": {
          "base_uri": "https://localhost:8080/"
        },
        "id": "JNmMGN66gDFM",
        "outputId": "7c822b74-6dc0-430d-ad93-d21a8411a8c6"
      },
      "execution_count": 51,
      "outputs": [
        {
          "output_type": "stream",
          "name": "stdout",
          "text": [
            "Valor da solução ótima = 12.0\n"
          ]
        }
      ]
    }
  ]
}