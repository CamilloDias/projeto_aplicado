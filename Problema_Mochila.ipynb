{
  "nbformat": 4,
  "nbformat_minor": 0,
  "metadata": {
    "colab": {
      "provenance": [],
      "authorship_tag": "ABX9TyNIJDz6gPpry4gQjssYDG/i",
      "include_colab_link": true
    },
    "kernelspec": {
      "name": "python3",
      "display_name": "Python 3"
    },
    "language_info": {
      "name": "python"
    }
  },
  "cells": [
    {
      "cell_type": "markdown",
      "metadata": {
        "id": "view-in-github",
        "colab_type": "text"
      },
      "source": [
        "<a href=\"https://colab.research.google.com/github/CamilloDias/projeto_aplicado/blob/main/Problema_Mochila.ipynb\" target=\"_parent\"><img src=\"https://colab.research.google.com/assets/colab-badge.svg\" alt=\"Open In Colab\"/></a>"
      ]
    },
    {
      "cell_type": "markdown",
      "source": [
        "#Análise Preditiva - Projeto Aplicado\n",
        "Problema da Mochila\n"
      ],
      "metadata": {
        "id": "-F3JNbR7_aVE"
      }
    },
    {
      "cell_type": "markdown",
      "source": [
        "Instalação do pacote mip"
      ],
      "metadata": {
        "id": "cNiW-BST_7Uz"
      }
    },
    {
      "cell_type": "code",
      "source": [
        "!pip install mip"
      ],
      "metadata": {
        "colab": {
          "base_uri": "https://localhost:8080/"
        },
        "id": "eXUZacvB_9Iy",
        "outputId": "d8b787c5-ce0a-4397-8f6f-0360c93f0119"
      },
      "execution_count": 18,
      "outputs": [
        {
          "output_type": "stream",
          "name": "stdout",
          "text": [
            "Looking in indexes: https://pypi.org/simple, https://us-python.pkg.dev/colab-wheels/public/simple/\n",
            "Requirement already satisfied: mip in /usr/local/lib/python3.8/dist-packages (1.15.0)\n",
            "Requirement already satisfied: cffi==1.15.* in /usr/local/lib/python3.8/dist-packages (from mip) (1.15.1)\n",
            "Requirement already satisfied: pycparser in /usr/local/lib/python3.8/dist-packages (from cffi==1.15.*->mip) (2.21)\n"
          ]
        }
      ]
    },
    {
      "cell_type": "markdown",
      "source": [
        "**Problema da Mochila**<br>\n",
        "Formulação do Modelo do problema da mochila (knapsack problem)<br>\n",
        "\n",
        "\\begin{eqnarray}\n",
        "\\max \\ 10\\ x_{1} &+ 13\\ x_{2}+18\\ x_{3}+31\\ x_{4}+7\\ x_{5}+15\\ x_{6}  \\\\\n",
        "\\mbox{sujeito a:}&  \\\\\n",
        "11\\ x_{1} + 15\\ x_{2} &+20\\ x_{3}+35\\ x_{4}+10\\ x_{5}+33\\ x_{6} \\leq 53  \n",
        "\\end{eqnarray}\n",
        "<br>\n",
        "\n",
        "Além disso $x$ é um vetor inteiro com valores não-negativos."
      ],
      "metadata": {
        "id": "b1F_TOboAZoL"
      }
    },
    {
      "cell_type": "code",
      "source": [
        "from mip import Model, maximize, xsum, CBC, BINARY, OptimizationStatus"
      ],
      "metadata": {
        "id": "NyDwQ3NEBQhz"
      },
      "execution_count": 19,
      "outputs": []
    },
    {
      "cell_type": "code",
      "source": [
        "coef_funcao_objetivo = [10, 13, 18, 31, 7, 15]\n",
        "coef_restr = [11, 15, 20, 35, 10, 33]\n",
        "termo_independente = 53 "
      ],
      "metadata": {
        "id": "cY5-DIINDYfD"
      },
      "execution_count": 20,
      "outputs": []
    },
    {
      "cell_type": "code",
      "source": [
        "I = range(len(coef_funcao_objetivo))\n",
        "m = Model(\"knapsack\")"
      ],
      "metadata": {
        "id": "4Z9-T13zDbiT"
      },
      "execution_count": 21,
      "outputs": []
    },
    {
      "cell_type": "code",
      "source": [
        "x = [m.add_var(var_type=BINARY) for i in I]"
      ],
      "metadata": {
        "id": "5UyUpnWdDgKj"
      },
      "execution_count": 22,
      "outputs": []
    },
    {
      "cell_type": "code",
      "source": [
        "m.objective = maximize(xsum(coef_funcao_objetivo[i] * x[i] for i in I))"
      ],
      "metadata": {
        "id": "WlLqqdFcDioz"
      },
      "execution_count": 23,
      "outputs": []
    },
    {
      "cell_type": "code",
      "source": [
        "m += xsum(coef_restr[i] * x[i] for i in I) <= termo_independente\n",
        "print(f'O modelo tem {m.num_cols} variável(eis), {m.num_rows} restrição(ões) e {m.num_nz} zero(s)')"
      ],
      "metadata": {
        "colab": {
          "base_uri": "https://localhost:8080/"
        },
        "id": "aok6XOurDk-U",
        "outputId": "835ce056-b71c-4229-c08f-2f0d8dfcdc5f"
      },
      "execution_count": 24,
      "outputs": [
        {
          "output_type": "stream",
          "name": "stdout",
          "text": [
            "O modelo tem 6 variável(eis), 1 restrição(ões) e 6 zero(s)\n"
          ]
        }
      ]
    },
    {
      "cell_type": "code",
      "source": [
        "status = m.optimize(max_seconds=2)"
      ],
      "metadata": {
        "id": "elDDCjHIDstL"
      },
      "execution_count": 25,
      "outputs": []
    },
    {
      "cell_type": "code",
      "source": [
        "status == OptimizationStatus.OPTIMAL"
      ],
      "metadata": {
        "colab": {
          "base_uri": "https://localhost:8080/"
        },
        "id": "kq1kWrgPDvNz",
        "outputId": "4de74e87-eee9-4048-9c15-aafc9ef6dfb6"
      },
      "execution_count": 26,
      "outputs": [
        {
          "output_type": "execute_result",
          "data": {
            "text/plain": [
              "True"
            ]
          },
          "metadata": {},
          "execution_count": 26
        }
      ]
    },
    {
      "cell_type": "code",
      "source": [
        "itens_selecionados = [\"x\"+str(i+1) for i in I if x[i].x >= 0.99]\n",
        "print(\"Itens selecionados: {}\".format(itens_selecionados))"
      ],
      "metadata": {
        "colab": {
          "base_uri": "https://localhost:8080/"
        },
        "id": "GDwT4UjuD4rJ",
        "outputId": "5b75c5f4-dc29-49ee-a62f-76ee06f913b3"
      },
      "execution_count": 27,
      "outputs": [
        {
          "output_type": "stream",
          "name": "stdout",
          "text": [
            "Itens selecionados: ['x2', 'x4']\n"
          ]
        }
      ]
    },
    {
      "cell_type": "markdown",
      "source": [
        "#**Instalação do pacote ortools**"
      ],
      "metadata": {
        "id": "BAHZFZyqECQV"
      }
    },
    {
      "cell_type": "code",
      "source": [
        "!pip install ortools"
      ],
      "metadata": {
        "colab": {
          "base_uri": "https://localhost:8080/"
        },
        "id": "EjpveqwQELsM",
        "outputId": "41444bb3-6899-4dc7-9524-823f062b7f70"
      },
      "execution_count": 28,
      "outputs": [
        {
          "output_type": "stream",
          "name": "stdout",
          "text": [
            "Looking in indexes: https://pypi.org/simple, https://us-python.pkg.dev/colab-wheels/public/simple/\n",
            "Requirement already satisfied: ortools in /usr/local/lib/python3.8/dist-packages (9.5.2237)\n",
            "Requirement already satisfied: absl-py>=0.13 in /usr/local/lib/python3.8/dist-packages (from ortools) (1.4.0)\n",
            "Requirement already satisfied: numpy>=1.13.3 in /usr/local/lib/python3.8/dist-packages (from ortools) (1.21.6)\n",
            "Requirement already satisfied: protobuf>=4.21.5 in /usr/local/lib/python3.8/dist-packages (from ortools) (4.22.0)\n"
          ]
        }
      ]
    },
    {
      "cell_type": "markdown",
      "source": [
        "**Exemplo de Programação Inteira**"
      ],
      "metadata": {
        "id": "Uhd_zHyjERx8"
      }
    },
    {
      "cell_type": "code",
      "source": [
        "from ortools.linear_solver import pywraplp"
      ],
      "metadata": {
        "id": "wmI6mrhvEZkb"
      },
      "execution_count": 29,
      "outputs": []
    },
    {
      "cell_type": "code",
      "source": [
        "solver = pywraplp.Solver.CreateSolver('SCIP')"
      ],
      "metadata": {
        "id": "KiEpfHhIEcjr"
      },
      "execution_count": 30,
      "outputs": []
    },
    {
      "cell_type": "code",
      "source": [
        "infinity = solver.infinity()\n",
        "# x e y são variáveis inteiras não-negativas.\n",
        "x = solver.IntVar(0.0, infinity, 'x')\n",
        "y = solver.IntVar(0.0, infinity, 'y')\n",
        "\n",
        "print('Número de variáveis =', solver.NumVariables())"
      ],
      "metadata": {
        "colab": {
          "base_uri": "https://localhost:8080/"
        },
        "id": "ifkTXFbhEmLN",
        "outputId": "a4c5df29-9b99-4024-8794-c27e5635de29"
      },
      "execution_count": 31,
      "outputs": [
        {
          "output_type": "stream",
          "name": "stdout",
          "text": [
            "Número de variáveis = 2\n"
          ]
        }
      ]
    },
    {
      "cell_type": "code",
      "source": [
        "# x + 7 * y <= 17.5.\n",
        "solver.Add(x + 7 * y <= 17.5)\n",
        "\n",
        "# x <= 3.5.\n",
        "solver.Add(x <= 3.5)\n",
        "\n",
        "print('Número de restrições =', solver.NumConstraints())"
      ],
      "metadata": {
        "colab": {
          "base_uri": "https://localhost:8080/"
        },
        "id": "SeFuwqd7Eu_6",
        "outputId": "19c5533b-cf6e-4004-fb2f-e6ecb1dfeaf2"
      },
      "execution_count": 32,
      "outputs": [
        {
          "output_type": "stream",
          "name": "stdout",
          "text": [
            "Número de restrições = 2\n"
          ]
        }
      ]
    },
    {
      "cell_type": "code",
      "source": [
        "# Maximize x + 10 * y.\n",
        "solver.Maximize(x + 10 * y)"
      ],
      "metadata": {
        "id": "5w3b7PdTEyfT"
      },
      "execution_count": 33,
      "outputs": []
    },
    {
      "cell_type": "code",
      "source": [
        "status = solver.Solve()"
      ],
      "metadata": {
        "id": "O0ZE2DHbE1Yj"
      },
      "execution_count": 34,
      "outputs": []
    },
    {
      "cell_type": "code",
      "source": [
        "if status == pywraplp.Solver.OPTIMAL:\n",
        "  print('Solução:')\n",
        "  print('Valor objetivo =', solver.Objective().Value())\n",
        "  print('x =', x.solution_value())\n",
        "  print('y =', y.solution_value())\n",
        "else:\n",
        "  print('O problema não tem solução ótima.')\n"
      ],
      "metadata": {
        "colab": {
          "base_uri": "https://localhost:8080/"
        },
        "id": "5A0HmcnqE32L",
        "outputId": "eded10c8-27f2-4282-c92f-1154b94d6d70"
      },
      "execution_count": 35,
      "outputs": [
        {
          "output_type": "stream",
          "name": "stdout",
          "text": [
            "Solução:\n",
            "Valor objetivo = 23.0\n",
            "x = 3.0\n",
            "y = 2.0\n"
          ]
        }
      ]
    },
    {
      "cell_type": "code",
      "source": [
        "print('\\nInformações sobre o processamento:')\n",
        "print(f'Tempo de processamento em milisegundos foi de {solver.wall_time()}')\n",
        "print(f'Quantidade de Iterações para resolver o problema foi de {solver.iterations()}')\n",
        "print(f'Quantidade nós de branch-and-bound para resolver o problema foi de {solver.nodes()}')"
      ],
      "metadata": {
        "colab": {
          "base_uri": "https://localhost:8080/"
        },
        "id": "Drhbz-bsE68s",
        "outputId": "4cbe925a-42e0-4ae6-89f1-40b239f3a33d"
      },
      "execution_count": 36,
      "outputs": [
        {
          "output_type": "stream",
          "name": "stdout",
          "text": [
            "\n",
            "Informações sobre o processamento:\n",
            "Tempo de processamento em milisegundos foi de 196\n",
            "Quantidade de Iterações para resolver o problema foi de 0\n",
            "Quantidade nós de branch-and-bound para resolver o problema foi de 1\n"
          ]
        }
      ]
    }
  ]
}