{
  "nbformat": 4,
  "nbformat_minor": 0,
  "metadata": {
    "colab": {
      "provenance": [],
      "authorship_tag": "ABX9TyPcQJqcygHwQMkNyRSEFq10",
      "include_colab_link": true
    },
    "kernelspec": {
      "name": "python3",
      "display_name": "Python 3"
    },
    "language_info": {
      "name": "python"
    }
  },
  "cells": [
    {
      "cell_type": "markdown",
      "metadata": {
        "id": "view-in-github",
        "colab_type": "text"
      },
      "source": [
        "<a href=\"https://colab.research.google.com/github/CamilloDias/projeto_aplicado/blob/main/Problema_Mochila.ipynb\" target=\"_parent\"><img src=\"https://colab.research.google.com/assets/colab-badge.svg\" alt=\"Open In Colab\"/></a>"
      ]
    },
    {
      "cell_type": "markdown",
      "source": [
        "#**Análise Preditiva - Projeto Aplicado**\n",
        "####Problema da Mochila\n",
        "####Aluno: Camillo Martins Dias Neto\n",
        "####Professor: Sérgio Assunção Monteiro\n",
        "####Matrícula: 202204132435\n",
        "####Curso: MBA em BI & Data Science\n",
        "####IBMEC (Barra)\n",
        "####Trabalho para avaliação 30%\n",
        "\n"
      ],
      "metadata": {
        "id": "-F3JNbR7_aVE"
      }
    },
    {
      "cell_type": "markdown",
      "source": [
        "Instalação do pacote mip"
      ],
      "metadata": {
        "id": "cNiW-BST_7Uz"
      }
    },
    {
      "cell_type": "code",
      "source": [
        "# (MIP, na sigla em inglês para Mixed Integer Programming) é um tipo de otimização que permite encontrar a solução ótima de um problema com restrições, onde algumas ou todas as variáveis de decisão são restritas a serem números inteiros.\n",
        "!pip install mip"
      ],
      "metadata": {
        "id": "eXUZacvB_9Iy"
      },
      "execution_count": null,
      "outputs": []
    },
    {
      "cell_type": "markdown",
      "source": [
        "**Problema da Mochila**<br>\n",
        "Formulação do Modelo do problema da mochila (knapsack problem)\n",
        "\n",
        "$$max \\hspace{1cm} z = 4x_1 +  6x_2 + 5x_3 + 3x_4 + x_5$$\n",
        "$$s.a. \\hspace{1cm} 5x_1 +  4x_2 + 3x_3 + 2x_4 + x_5\\leq10$$\n",
        "$$x_i \\in \\{0,1\\}, \\quad i = 1, \\ldots, 5$$\n",
        "\n",
        "\n",
        "Neste exemplo temos uma situação com 5 itens no total, cada um com seu respectivo peso: $$(pi, 1 = 1,...,5)$$ e valor de utilidade: $$(vi, i = 1,...,5)$$"
      ],
      "metadata": {
        "id": "b1F_TOboAZoL"
      }
    },
    {
      "cell_type": "code",
      "source": [
        "# Model: é uma classe que representa o modelo de otimização. É usada para definir as variáveis de decisão, as restrições e a função objetivo do problema.\n",
        "# maximize: é uma função que define que o objetivo da otimização é maximizar uma função.\n",
        "# xsum: é uma função que retorna a soma de um conjunto de expressões lineares.\n",
        "# CBC: é um solucionador de problemas de programação inteira mista. É usado para resolver o modelo de otimização.\n",
        "# BINARY: é uma constante que define que a variável de decisão é binária (ou seja, assume valores 0 ou 1).\n",
        "# OptimizationStatus: é uma classe que representa o status da solução do problema de otimização.\n",
        "from mip import Model, maximize, xsum, CBC, BINARY, OptimizationStatus"
      ],
      "metadata": {
        "id": "NyDwQ3NEBQhz"
      },
      "execution_count": 2,
      "outputs": []
    },
    {
      "cell_type": "code",
      "source": [
        "coef_funcao_objetivo = [4, 6, 5, 3, 1]\n",
        "coef_restr = [5, 4, 3, 2, 1]\n",
        "termo_independente = 10 "
      ],
      "metadata": {
        "id": "cY5-DIINDYfD"
      },
      "execution_count": 3,
      "outputs": []
    },
    {
      "cell_type": "code",
      "source": [
        "# Nesse código, a primeira linha cria um objeto range com tamanho igual ao número  de coeficientes na função objetivo. Esse objeto é usado para iterar sobre os coeficientes mais tarde.\n",
        "# A segunda linha cria um objeto Model com o nome \"knapsack\". Esse objeto é a representação do modelo \\n\n",
        "# de programação inteira mista que será utilizado para resolver o problema. \\n\n",
        "#\"knapsack\" é apenas um nome escolhido para identificar o modelo.\n",
        "I = range(len(coef_funcao_objetivo))\n",
        "m = Model(\"knapsack\")"
      ],
      "metadata": {
        "id": "4Z9-T13zDbiT"
      },
      "execution_count": 4,
      "outputs": []
    },
    {
      "cell_type": "code",
      "source": [
        "x = [m.add_var(var_type=BINARY) for i in I]"
      ],
      "metadata": {
        "id": "5UyUpnWdDgKj"
      },
      "execution_count": 5,
      "outputs": []
    },
    {
      "cell_type": "code",
      "source": [
        "m.objective = maximize(xsum(coef_funcao_objetivo[i] * x[i] for i in I))"
      ],
      "metadata": {
        "id": "WlLqqdFcDioz"
      },
      "execution_count": 6,
      "outputs": []
    },
    {
      "cell_type": "code",
      "source": [
        "m += xsum(coef_restr[i] * x[i] for i in I) <= termo_independente\n",
        "print(f'O modelo tem {m.num_cols} variável(eis), {m.num_rows} restrição(ões) e {m.num_nz} zero(s)')"
      ],
      "metadata": {
        "colab": {
          "base_uri": "https://localhost:8080/"
        },
        "id": "aok6XOurDk-U",
        "outputId": "6f8341aa-1049-4bde-a09b-7c40187a7547"
      },
      "execution_count": 7,
      "outputs": [
        {
          "output_type": "stream",
          "name": "stdout",
          "text": [
            "O modelo tem 5 variável(eis), 1 restrição(ões) e 5 zero(s)\n"
          ]
        }
      ]
    },
    {
      "cell_type": "code",
      "source": [
        "status = m.optimize(max_seconds=2)\n",
        "if status == OptimizationStatus.OPTIMAL:\n",
        "  print('Otimizado com sucesso!')\n",
        "else:\n",
        "  print('A otimização falhou')"
      ],
      "metadata": {
        "id": "elDDCjHIDstL",
        "colab": {
          "base_uri": "https://localhost:8080/"
        },
        "outputId": "4ba86d58-fb09-4f30-8e3a-2945fa532cc9"
      },
      "execution_count": 14,
      "outputs": [
        {
          "output_type": "stream",
          "name": "stdout",
          "text": [
            "Otimizado com sucesso!\n"
          ]
        }
      ]
    },
    {
      "cell_type": "code",
      "source": [
        "itens_selecionados = [\"x\"+str(i+1) for i in I if x[i].x >= 0.99]\n",
        "print(\"Itens selecionados: {}\".format(itens_selecionados))"
      ],
      "metadata": {
        "colab": {
          "base_uri": "https://localhost:8080/"
        },
        "id": "YnJ6VPNFwZkC",
        "outputId": "e729f6eb-8f86-48c3-b3c9-f877e9effb51"
      },
      "execution_count": 15,
      "outputs": [
        {
          "output_type": "stream",
          "name": "stdout",
          "text": [
            "Itens selecionados: ['x2', 'x3', 'x4', 'x5']\n"
          ]
        }
      ]
    }
  ]
}